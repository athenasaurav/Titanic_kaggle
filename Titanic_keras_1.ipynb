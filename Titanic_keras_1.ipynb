{
 "cells": [
  {
   "cell_type": "code",
   "execution_count": 1,
   "metadata": {},
   "outputs": [],
   "source": [
    "# Importing libraries\n",
    "import pandas as pd    \n",
    "import numpy as np\n",
    "# Reading data to Dataframes\n",
    "    \n",
    "data_train = pd.read_csv('train.csv')\n",
    "data_test = pd.read_csv('test.csv')\n",
    "data_check = pd.read_csv('gender_submission.csv')"
   ]
  },
  {
   "cell_type": "code",
   "execution_count": 2,
   "metadata": {},
   "outputs": [],
   "source": [
    "#changing column name\n",
    "    \n",
    "data_train = data_train.rename(columns = {'Pclass' : 'TicketClass'})\n",
    "data_test = data_test.rename(columns = {'Pclass' : 'TicketClass'})"
   ]
  },
  {
   "cell_type": "code",
   "execution_count": 3,
   "metadata": {},
   "outputs": [],
   "source": [
    "#Removing unused columns\n",
    "data_train = data_train.drop(['Name','Ticket','Fare','Cabin','Embarked','Age'],axis =1)\n",
    "data_test = data_test.drop(['Name','Age','Ticket','Fare','Cabin','Embarked'], axis =1)"
   ]
  },
  {
   "cell_type": "code",
   "execution_count": 10,
   "metadata": {},
   "outputs": [],
   "source": [
    "#Importing LabelEncoder from Sklearn\n",
    "from sklearn.preprocessing import LabelEncoder\n",
    "label_encoder_sex = LabelEncoder()\n",
    "\n",
    "# Transforming sex column values using label Encoder\n",
    "data_train.iloc[:,3]  = label_encoder_sex.fit_transform(data_train.iloc[:,3])\n",
    "data_test.iloc[:,1] = label_encoder_sex.fit_transform(data_test.iloc[:,1])"
   ]
  },
  {
   "cell_type": "code",
   "execution_count": 11,
   "metadata": {},
   "outputs": [],
   "source": [
    "data_train = data_train[['PassengerId','Sex','SibSp','Parch','TicketClass','Survived']]\n",
    "data_test = data_test[['PassengerId','Sex','SibSp','Parch','TicketClass']]"
   ]
  },
  {
   "cell_type": "code",
   "execution_count": 12,
   "metadata": {},
   "outputs": [
    {
     "data": {
      "text/html": [
       "<div>\n",
       "<style scoped>\n",
       "    .dataframe tbody tr th:only-of-type {\n",
       "        vertical-align: middle;\n",
       "    }\n",
       "\n",
       "    .dataframe tbody tr th {\n",
       "        vertical-align: top;\n",
       "    }\n",
       "\n",
       "    .dataframe thead th {\n",
       "        text-align: right;\n",
       "    }\n",
       "</style>\n",
       "<table border=\"1\" class=\"dataframe\">\n",
       "  <thead>\n",
       "    <tr style=\"text-align: right;\">\n",
       "      <th></th>\n",
       "      <th>PassengerId</th>\n",
       "      <th>Sex</th>\n",
       "      <th>SibSp</th>\n",
       "      <th>Parch</th>\n",
       "      <th>TicketClass</th>\n",
       "      <th>Survived</th>\n",
       "    </tr>\n",
       "  </thead>\n",
       "  <tbody>\n",
       "    <tr>\n",
       "      <td>0</td>\n",
       "      <td>1</td>\n",
       "      <td>1</td>\n",
       "      <td>1</td>\n",
       "      <td>0</td>\n",
       "      <td>3</td>\n",
       "      <td>0</td>\n",
       "    </tr>\n",
       "    <tr>\n",
       "      <td>1</td>\n",
       "      <td>2</td>\n",
       "      <td>0</td>\n",
       "      <td>1</td>\n",
       "      <td>0</td>\n",
       "      <td>1</td>\n",
       "      <td>1</td>\n",
       "    </tr>\n",
       "    <tr>\n",
       "      <td>2</td>\n",
       "      <td>3</td>\n",
       "      <td>0</td>\n",
       "      <td>0</td>\n",
       "      <td>0</td>\n",
       "      <td>3</td>\n",
       "      <td>1</td>\n",
       "    </tr>\n",
       "    <tr>\n",
       "      <td>3</td>\n",
       "      <td>4</td>\n",
       "      <td>0</td>\n",
       "      <td>1</td>\n",
       "      <td>0</td>\n",
       "      <td>1</td>\n",
       "      <td>1</td>\n",
       "    </tr>\n",
       "    <tr>\n",
       "      <td>4</td>\n",
       "      <td>5</td>\n",
       "      <td>1</td>\n",
       "      <td>0</td>\n",
       "      <td>0</td>\n",
       "      <td>3</td>\n",
       "      <td>0</td>\n",
       "    </tr>\n",
       "  </tbody>\n",
       "</table>\n",
       "</div>"
      ],
      "text/plain": [
       "   PassengerId  Sex  SibSp  Parch  TicketClass  Survived\n",
       "0            1    1      1      0            3         0\n",
       "1            2    0      1      0            1         1\n",
       "2            3    0      0      0            3         1\n",
       "3            4    0      1      0            1         1\n",
       "4            5    1      0      0            3         0"
      ]
     },
     "execution_count": 12,
     "metadata": {},
     "output_type": "execute_result"
    }
   ],
   "source": [
    "data_train.head()"
   ]
  },
  {
   "cell_type": "code",
   "execution_count": 13,
   "metadata": {},
   "outputs": [
    {
     "data": {
      "text/html": [
       "<div>\n",
       "<style scoped>\n",
       "    .dataframe tbody tr th:only-of-type {\n",
       "        vertical-align: middle;\n",
       "    }\n",
       "\n",
       "    .dataframe tbody tr th {\n",
       "        vertical-align: top;\n",
       "    }\n",
       "\n",
       "    .dataframe thead th {\n",
       "        text-align: right;\n",
       "    }\n",
       "</style>\n",
       "<table border=\"1\" class=\"dataframe\">\n",
       "  <thead>\n",
       "    <tr style=\"text-align: right;\">\n",
       "      <th></th>\n",
       "      <th>PassengerId</th>\n",
       "      <th>Sex</th>\n",
       "      <th>SibSp</th>\n",
       "      <th>Parch</th>\n",
       "      <th>TicketClass</th>\n",
       "    </tr>\n",
       "  </thead>\n",
       "  <tbody>\n",
       "    <tr>\n",
       "      <td>0</td>\n",
       "      <td>892</td>\n",
       "      <td>1</td>\n",
       "      <td>0</td>\n",
       "      <td>0</td>\n",
       "      <td>2</td>\n",
       "    </tr>\n",
       "    <tr>\n",
       "      <td>1</td>\n",
       "      <td>893</td>\n",
       "      <td>0</td>\n",
       "      <td>1</td>\n",
       "      <td>0</td>\n",
       "      <td>2</td>\n",
       "    </tr>\n",
       "    <tr>\n",
       "      <td>2</td>\n",
       "      <td>894</td>\n",
       "      <td>1</td>\n",
       "      <td>0</td>\n",
       "      <td>0</td>\n",
       "      <td>1</td>\n",
       "    </tr>\n",
       "    <tr>\n",
       "      <td>3</td>\n",
       "      <td>895</td>\n",
       "      <td>1</td>\n",
       "      <td>0</td>\n",
       "      <td>0</td>\n",
       "      <td>2</td>\n",
       "    </tr>\n",
       "    <tr>\n",
       "      <td>4</td>\n",
       "      <td>896</td>\n",
       "      <td>0</td>\n",
       "      <td>1</td>\n",
       "      <td>1</td>\n",
       "      <td>2</td>\n",
       "    </tr>\n",
       "  </tbody>\n",
       "</table>\n",
       "</div>"
      ],
      "text/plain": [
       "   PassengerId  Sex  SibSp  Parch  TicketClass\n",
       "0          892    1      0      0            2\n",
       "1          893    0      1      0            2\n",
       "2          894    1      0      0            1\n",
       "3          895    1      0      0            2\n",
       "4          896    0      1      1            2"
      ]
     },
     "execution_count": 13,
     "metadata": {},
     "output_type": "execute_result"
    }
   ],
   "source": [
    "data_test.head()"
   ]
  },
  {
   "cell_type": "code",
   "execution_count": 14,
   "metadata": {},
   "outputs": [],
   "source": [
    "X_train = data_train.iloc[:,0:5]   # Inputs\n",
    "y_train = data_train.iloc[:,5]     #Output (Survived)"
   ]
  },
  {
   "cell_type": "code",
   "execution_count": 15,
   "metadata": {},
   "outputs": [],
   "source": [
    "from sklearn.preprocessing import StandardScaler\n",
    "sc = StandardScaler()\n",
    "X_train = sc.fit_transform(X_train)\n",
    "X_test = sc.fit_transform(data_test)"
   ]
  },
  {
   "cell_type": "code",
   "execution_count": 16,
   "metadata": {},
   "outputs": [
    {
     "name": "stderr",
     "output_type": "stream",
     "text": [
      "Using TensorFlow backend.\n"
     ]
    }
   ],
   "source": [
    "import keras\n",
    "from keras.models import Sequential\n",
    "from keras.layers import Dense"
   ]
  },
  {
   "cell_type": "code",
   "execution_count": 17,
   "metadata": {},
   "outputs": [],
   "source": [
    "classifier = Sequential()"
   ]
  },
  {
   "cell_type": "code",
   "execution_count": 18,
   "metadata": {},
   "outputs": [
    {
     "name": "stderr",
     "output_type": "stream",
     "text": [
      "C:\\Users\\athen\\AppData\\Local\\Continuum\\anaconda3\\lib\\site-packages\\ipykernel_launcher.py:2: UserWarning: Update your `Dense` call to the Keras 2 API: `Dense(activation=\"relu\", input_dim=5, units=3, kernel_initializer=\"uniform\")`\n",
      "  \n",
      "C:\\Users\\athen\\AppData\\Local\\Continuum\\anaconda3\\lib\\site-packages\\ipykernel_launcher.py:4: UserWarning: Update your `Dense` call to the Keras 2 API: `Dense(activation=\"relu\", units=2, kernel_initializer=\"uniform\")`\n",
      "  after removing the cwd from sys.path.\n"
     ]
    }
   ],
   "source": [
    "#Input layer with 5 inputs neurons\n",
    "classifier.add(Dense(output_dim = 3, init = 'uniform', activation = 'relu', input_dim = 5))\n",
    "#Hidden layer\n",
    "classifier.add(Dense(output_dim = 2, init = 'uniform', activation = 'relu'))"
   ]
  },
  {
   "cell_type": "code",
   "execution_count": 19,
   "metadata": {},
   "outputs": [
    {
     "name": "stderr",
     "output_type": "stream",
     "text": [
      "C:\\Users\\athen\\AppData\\Local\\Continuum\\anaconda3\\lib\\site-packages\\ipykernel_launcher.py:2: UserWarning: Update your `Dense` call to the Keras 2 API: `Dense(activation=\"sigmoid\", units=1, kernel_initializer=\"uniform\")`\n",
      "  \n"
     ]
    }
   ],
   "source": [
    "#output layer with 1 output neuron which will predict 1 or 0\n",
    "classifier.add(Dense(output_dim = 1, init = 'uniform', activation = 'sigmoid'))"
   ]
  },
  {
   "cell_type": "code",
   "execution_count": 20,
   "metadata": {},
   "outputs": [
    {
     "name": "stdout",
     "output_type": "stream",
     "text": [
      "WARNING:tensorflow:From C:\\Users\\athen\\AppData\\Local\\Continuum\\anaconda3\\lib\\site-packages\\tensorflow\\python\\ops\\nn_impl.py:180: add_dispatch_support.<locals>.wrapper (from tensorflow.python.ops.array_ops) is deprecated and will be removed in a future version.\n",
      "Instructions for updating:\n",
      "Use tf.where in 2.0, which has the same broadcast rule as np.where\n"
     ]
    }
   ],
   "source": [
    "classifier.compile(optimizer = 'adam', loss = 'binary_crossentropy', metrics = ['accuracy'])"
   ]
  },
  {
   "cell_type": "code",
   "execution_count": 21,
   "metadata": {},
   "outputs": [
    {
     "name": "stderr",
     "output_type": "stream",
     "text": [
      "C:\\Users\\athen\\AppData\\Local\\Continuum\\anaconda3\\lib\\site-packages\\ipykernel_launcher.py:1: UserWarning: The `nb_epoch` argument in `fit` has been renamed `epochs`.\n",
      "  \"\"\"Entry point for launching an IPython kernel.\n"
     ]
    },
    {
     "name": "stdout",
     "output_type": "stream",
     "text": [
      "WARNING:tensorflow:From C:\\Users\\athen\\AppData\\Local\\Continuum\\anaconda3\\lib\\site-packages\\keras\\backend\\tensorflow_backend.py:422: The name tf.global_variables is deprecated. Please use tf.compat.v1.global_variables instead.\n",
      "\n",
      "Epoch 1/100\n",
      "891/891 [==============================] - 0s 332us/step - loss: 0.6900 - accuracy: 0.6094\n",
      "Epoch 2/100\n",
      "891/891 [==============================] - 0s 73us/step - loss: 0.6846 - accuracy: 0.6162\n",
      "Epoch 3/100\n",
      "891/891 [==============================] - 0s 81us/step - loss: 0.6809 - accuracy: 0.6162\n",
      "Epoch 4/100\n",
      "891/891 [==============================] - 0s 78us/step - loss: 0.6777 - accuracy: 0.6162\n",
      "Epoch 5/100\n",
      "891/891 [==============================] - 0s 77us/step - loss: 0.6751 - accuracy: 0.6162\n",
      "Epoch 6/100\n",
      "891/891 [==============================] - 0s 78us/step - loss: 0.6733 - accuracy: 0.6162\n",
      "Epoch 7/100\n",
      "891/891 [==============================] - 0s 86us/step - loss: 0.6716 - accuracy: 0.6162\n",
      "Epoch 8/100\n",
      "891/891 [==============================] - 0s 79us/step - loss: 0.6703 - accuracy: 0.6162\n",
      "Epoch 9/100\n",
      "891/891 [==============================] - 0s 77us/step - loss: 0.6694 - accuracy: 0.6162\n",
      "Epoch 10/100\n",
      "891/891 [==============================] - 0s 81us/step - loss: 0.6686 - accuracy: 0.6162\n",
      "Epoch 11/100\n",
      "891/891 [==============================] - 0s 78us/step - loss: 0.6679 - accuracy: 0.6162\n",
      "Epoch 12/100\n",
      "891/891 [==============================] - 0s 76us/step - loss: 0.6674 - accuracy: 0.6162\n",
      "Epoch 13/100\n",
      "891/891 [==============================] - 0s 77us/step - loss: 0.6671 - accuracy: 0.6162\n",
      "Epoch 14/100\n",
      "891/891 [==============================] - 0s 74us/step - loss: 0.6669 - accuracy: 0.6162\n",
      "Epoch 15/100\n",
      "891/891 [==============================] - 0s 81us/step - loss: 0.6667 - accuracy: 0.6162\n",
      "Epoch 16/100\n",
      "891/891 [==============================] - 0s 79us/step - loss: 0.6665 - accuracy: 0.6162\n",
      "Epoch 17/100\n",
      "891/891 [==============================] - 0s 85us/step - loss: 0.6663 - accuracy: 0.6162\n",
      "Epoch 18/100\n",
      "891/891 [==============================] - 0s 102us/step - loss: 0.6662 - accuracy: 0.6162\n",
      "Epoch 19/100\n",
      "891/891 [==============================] - 0s 97us/step - loss: 0.6662 - accuracy: 0.6162\n",
      "Epoch 20/100\n",
      "891/891 [==============================] - 0s 101us/step - loss: 0.6661 - accuracy: 0.6162\n",
      "Epoch 21/100\n",
      "891/891 [==============================] - 0s 107us/step - loss: 0.6661 - accuracy: 0.6162\n",
      "Epoch 22/100\n",
      "891/891 [==============================] - 0s 125us/step - loss: 0.6661 - accuracy: 0.6162\n",
      "Epoch 23/100\n",
      "891/891 [==============================] - 0s 114us/step - loss: 0.6661 - accuracy: 0.6162\n",
      "Epoch 24/100\n",
      "891/891 [==============================] - 0s 107us/step - loss: 0.6660 - accuracy: 0.6162\n",
      "Epoch 25/100\n",
      "891/891 [==============================] - 0s 96us/step - loss: 0.6660 - accuracy: 0.6162\n",
      "Epoch 26/100\n",
      "891/891 [==============================] - 0s 94us/step - loss: 0.6660 - accuracy: 0.6162\n",
      "Epoch 27/100\n",
      "891/891 [==============================] - 0s 91us/step - loss: 0.6660 - accuracy: 0.6162\n",
      "Epoch 28/100\n",
      "891/891 [==============================] - 0s 77us/step - loss: 0.6660 - accuracy: 0.6162\n",
      "Epoch 29/100\n",
      "891/891 [==============================] - 0s 79us/step - loss: 0.6660 - accuracy: 0.6162\n",
      "Epoch 30/100\n",
      "891/891 [==============================] - 0s 75us/step - loss: 0.6660 - accuracy: 0.6162\n",
      "Epoch 31/100\n",
      "891/891 [==============================] - 0s 81us/step - loss: 0.6660 - accuracy: 0.6162\n",
      "Epoch 32/100\n",
      "891/891 [==============================] - 0s 79us/step - loss: 0.6660 - accuracy: 0.6162\n",
      "Epoch 33/100\n",
      "891/891 [==============================] - 0s 88us/step - loss: 0.6660 - accuracy: 0.6162\n",
      "Epoch 34/100\n",
      "891/891 [==============================] - 0s 76us/step - loss: 0.6660 - accuracy: 0.6162\n",
      "Epoch 35/100\n",
      "891/891 [==============================] - 0s 88us/step - loss: 0.6660 - accuracy: 0.6162\n",
      "Epoch 36/100\n",
      "891/891 [==============================] - 0s 77us/step - loss: 0.6660 - accuracy: 0.6162\n",
      "Epoch 37/100\n",
      "891/891 [==============================] - 0s 78us/step - loss: 0.6659 - accuracy: 0.6162\n",
      "Epoch 38/100\n",
      "891/891 [==============================] - 0s 76us/step - loss: 0.6660 - accuracy: 0.6162\n",
      "Epoch 39/100\n",
      "891/891 [==============================] - 0s 86us/step - loss: 0.6660 - accuracy: 0.6162\n",
      "Epoch 40/100\n",
      "891/891 [==============================] - 0s 81us/step - loss: 0.6659 - accuracy: 0.6162\n",
      "Epoch 41/100\n",
      "891/891 [==============================] - 0s 88us/step - loss: 0.6660 - accuracy: 0.6162\n",
      "Epoch 42/100\n",
      "891/891 [==============================] - 0s 91us/step - loss: 0.6660 - accuracy: 0.6162\n",
      "Epoch 43/100\n",
      "891/891 [==============================] - 0s 75us/step - loss: 0.6660 - accuracy: 0.6162\n",
      "Epoch 44/100\n",
      "891/891 [==============================] - 0s 81us/step - loss: 0.6660 - accuracy: 0.6162\n",
      "Epoch 45/100\n",
      "891/891 [==============================] - 0s 79us/step - loss: 0.6660 - accuracy: 0.6162\n",
      "Epoch 46/100\n",
      "891/891 [==============================] - 0s 78us/step - loss: 0.6660 - accuracy: 0.6162\n",
      "Epoch 47/100\n",
      "891/891 [==============================] - 0s 74us/step - loss: 0.6660 - accuracy: 0.6162\n",
      "Epoch 48/100\n",
      "891/891 [==============================] - 0s 76us/step - loss: 0.6659 - accuracy: 0.6162\n",
      "Epoch 49/100\n",
      "891/891 [==============================] - 0s 76us/step - loss: 0.6660 - accuracy: 0.6162\n",
      "Epoch 50/100\n",
      "891/891 [==============================] - 0s 82us/step - loss: 0.6660 - accuracy: 0.6162\n",
      "Epoch 51/100\n",
      "891/891 [==============================] - 0s 74us/step - loss: 0.6659 - accuracy: 0.6162\n",
      "Epoch 52/100\n",
      "891/891 [==============================] - 0s 74us/step - loss: 0.6660 - accuracy: 0.6162\n",
      "Epoch 53/100\n",
      "891/891 [==============================] - 0s 73us/step - loss: 0.6660 - accuracy: 0.6162\n",
      "Epoch 54/100\n",
      "891/891 [==============================] - 0s 75us/step - loss: 0.6660 - accuracy: 0.6162\n",
      "Epoch 55/100\n",
      "891/891 [==============================] - 0s 75us/step - loss: 0.6660 - accuracy: 0.6162\n",
      "Epoch 56/100\n",
      "891/891 [==============================] - 0s 76us/step - loss: 0.6660 - accuracy: 0.6162\n",
      "Epoch 57/100\n",
      "891/891 [==============================] - 0s 77us/step - loss: 0.6660 - accuracy: 0.6162\n",
      "Epoch 58/100\n",
      "891/891 [==============================] - 0s 76us/step - loss: 0.6660 - accuracy: 0.6162\n",
      "Epoch 59/100\n",
      "891/891 [==============================] - 0s 74us/step - loss: 0.6659 - accuracy: 0.6162\n",
      "Epoch 60/100\n",
      "891/891 [==============================] - 0s 75us/step - loss: 0.6660 - accuracy: 0.6162\n",
      "Epoch 61/100\n",
      "891/891 [==============================] - 0s 76us/step - loss: 0.6660 - accuracy: 0.6162\n",
      "Epoch 62/100\n",
      "891/891 [==============================] - 0s 73us/step - loss: 0.6659 - accuracy: 0.6162\n",
      "Epoch 63/100\n",
      "891/891 [==============================] - 0s 75us/step - loss: 0.6660 - accuracy: 0.6162\n",
      "Epoch 64/100\n",
      "891/891 [==============================] - 0s 75us/step - loss: 0.6660 - accuracy: 0.6162\n",
      "Epoch 65/100\n",
      "891/891 [==============================] - 0s 81us/step - loss: 0.6659 - accuracy: 0.6162\n",
      "Epoch 66/100\n",
      "891/891 [==============================] - 0s 75us/step - loss: 0.6660 - accuracy: 0.6162\n",
      "Epoch 67/100\n",
      "891/891 [==============================] - 0s 79us/step - loss: 0.6660 - accuracy: 0.6162\n",
      "Epoch 68/100\n",
      "891/891 [==============================] - 0s 81us/step - loss: 0.6660 - accuracy: 0.6162\n",
      "Epoch 69/100\n",
      "891/891 [==============================] - 0s 75us/step - loss: 0.6660 - accuracy: 0.6162\n",
      "Epoch 70/100\n",
      "891/891 [==============================] - 0s 75us/step - loss: 0.6660 - accuracy: 0.6162\n",
      "Epoch 71/100\n",
      "891/891 [==============================] - 0s 77us/step - loss: 0.6660 - accuracy: 0.6162\n",
      "Epoch 72/100\n",
      "891/891 [==============================] - 0s 82us/step - loss: 0.6660 - accuracy: 0.6162\n",
      "Epoch 73/100\n",
      "891/891 [==============================] - 0s 73us/step - loss: 0.6660 - accuracy: 0.6162\n",
      "Epoch 74/100\n",
      "891/891 [==============================] - 0s 77us/step - loss: 0.6660 - accuracy: 0.6162\n",
      "Epoch 75/100\n",
      "891/891 [==============================] - 0s 76us/step - loss: 0.6659 - accuracy: 0.6162\n",
      "Epoch 76/100\n",
      "891/891 [==============================] - 0s 75us/step - loss: 0.6660 - accuracy: 0.6162\n",
      "Epoch 77/100\n",
      "891/891 [==============================] - 0s 76us/step - loss: 0.6659 - accuracy: 0.6162\n",
      "Epoch 78/100\n"
     ]
    },
    {
     "name": "stdout",
     "output_type": "stream",
     "text": [
      "891/891 [==============================] - 0s 76us/step - loss: 0.6660 - accuracy: 0.6162\n",
      "Epoch 79/100\n",
      "891/891 [==============================] - 0s 74us/step - loss: 0.6660 - accuracy: 0.6162\n",
      "Epoch 80/100\n",
      "891/891 [==============================] - 0s 74us/step - loss: 0.6660 - accuracy: 0.6162\n",
      "Epoch 81/100\n",
      "891/891 [==============================] - 0s 77us/step - loss: 0.6660 - accuracy: 0.6162\n",
      "Epoch 82/100\n",
      "891/891 [==============================] - 0s 76us/step - loss: 0.6660 - accuracy: 0.6162\n",
      "Epoch 83/100\n",
      "891/891 [==============================] - 0s 74us/step - loss: 0.6660 - accuracy: 0.6162\n",
      "Epoch 84/100\n",
      "891/891 [==============================] - 0s 74us/step - loss: 0.6659 - accuracy: 0.6162\n",
      "Epoch 85/100\n",
      "891/891 [==============================] - 0s 78us/step - loss: 0.6660 - accuracy: 0.6162\n",
      "Epoch 86/100\n",
      "891/891 [==============================] - 0s 73us/step - loss: 0.6659 - accuracy: 0.6162\n",
      "Epoch 87/100\n",
      "891/891 [==============================] - 0s 75us/step - loss: 0.6660 - accuracy: 0.6162\n",
      "Epoch 88/100\n",
      "891/891 [==============================] - 0s 74us/step - loss: 0.6660 - accuracy: 0.6162\n",
      "Epoch 89/100\n",
      "891/891 [==============================] - 0s 78us/step - loss: 0.6660 - accuracy: 0.6162\n",
      "Epoch 90/100\n",
      "891/891 [==============================] - 0s 74us/step - loss: 0.6660 - accuracy: 0.6162\n",
      "Epoch 91/100\n",
      "891/891 [==============================] - 0s 76us/step - loss: 0.6659 - accuracy: 0.6162\n",
      "Epoch 92/100\n",
      "891/891 [==============================] - 0s 76us/step - loss: 0.6660 - accuracy: 0.6162\n",
      "Epoch 93/100\n",
      "891/891 [==============================] - 0s 74us/step - loss: 0.6660 - accuracy: 0.6162\n",
      "Epoch 94/100\n",
      "891/891 [==============================] - 0s 76us/step - loss: 0.6660 - accuracy: 0.6162\n",
      "Epoch 95/100\n",
      "891/891 [==============================] - 0s 79us/step - loss: 0.6660 - accuracy: 0.6162\n",
      "Epoch 96/100\n",
      "891/891 [==============================] - 0s 76us/step - loss: 0.6659 - accuracy: 0.6162\n",
      "Epoch 97/100\n",
      "891/891 [==============================] - 0s 76us/step - loss: 0.6660 - accuracy: 0.6162\n",
      "Epoch 98/100\n",
      "891/891 [==============================] - 0s 75us/step - loss: 0.6660 - accuracy: 0.6162\n",
      "Epoch 99/100\n",
      "891/891 [==============================] - 0s 74us/step - loss: 0.6660 - accuracy: 0.6162\n",
      "Epoch 100/100\n",
      "891/891 [==============================] - 0s 73us/step - loss: 0.6660 - accuracy: 0.6162\n"
     ]
    },
    {
     "data": {
      "text/plain": [
       "<keras.callbacks.callbacks.History at 0x25717369788>"
      ]
     },
     "execution_count": 21,
     "metadata": {},
     "output_type": "execute_result"
    }
   ],
   "source": [
    "classifier.fit(X_train, y_train, batch_size = 10, nb_epoch = 100)"
   ]
  },
  {
   "cell_type": "code",
   "execution_count": 24,
   "metadata": {},
   "outputs": [],
   "source": [
    "predictions = np.round(classifier.predict(X_test))"
   ]
  },
  {
   "cell_type": "code",
   "execution_count": 25,
   "metadata": {},
   "outputs": [],
   "source": [
    "predictions = pd.DataFrame(predictions)"
   ]
  },
  {
   "cell_type": "code",
   "execution_count": 27,
   "metadata": {},
   "outputs": [],
   "source": [
    "# result\n",
    "result = pd.concat([data_train[[\"PassengerId\"]], predictions], axis = 1)"
   ]
  },
  {
   "cell_type": "code",
   "execution_count": 28,
   "metadata": {},
   "outputs": [],
   "source": [
    "predictions.to_csv(\"result.csv\", index=False)"
   ]
  },
  {
   "cell_type": "code",
   "execution_count": null,
   "metadata": {},
   "outputs": [],
   "source": [
    "from keras.models import Sequential\n",
    "from keras.layers import Dense\n",
    "from keras.wrappers.scikit_learn import KerasClassifier\n",
    "from keras.wrappers.scikit_learn import KerasRegressor\n",
    "from sklearn.model_selection import GridSearchCV\n",
    "from sklearn.preprocessing import StandardScaler\n",
    "from sklearn.pipeline import Pipeline\n",
    "from sklearn.model_selection import cross_val_score\n",
    "from sklearn.model_selection import KFold\n",
    "# Create a classifier with best parameters\n",
    "model_pred = KerasClassifier(build_fn=create_model, optimizer=best_optimizer, init=best_init, epochs=best_epochs, batch_size=best_batch_size, verbose=verbose)\n",
    "model_pred.fit(X_train, y_train)\n",
    "\n",
    "# Read test data\n",
    "test_df = pd.read_csv(data_test,index_col='PassengerId')\n",
    "\n",
    "# Create X_test\n",
    "X_test = test_df.values.astype(float)\n",
    "# Scaling\n",
    "X_test = scale.transform(X_test)\n",
    "\n",
    "# Predict 'Survived'\n",
    "prediction = model_pred.predict(X_test)"
   ]
  },
  {
   "cell_type": "code",
   "execution_count": null,
   "metadata": {},
   "outputs": [],
   "source": [
    "final_submission = pd.read_csv('submission-simple-cleansing.csv')"
   ]
  },
  {
   "cell_type": "code",
   "execution_count": null,
   "metadata": {},
   "outputs": [],
   "source": [
    "final_submission.head()"
   ]
  },
  {
   "cell_type": "code",
   "execution_count": null,
   "metadata": {},
   "outputs": [],
   "source": []
  }
 ],
 "metadata": {
  "kernelspec": {
   "display_name": "Python 3",
   "language": "python",
   "name": "python3"
  },
  "language_info": {
   "codemirror_mode": {
    "name": "ipython",
    "version": 3
   },
   "file_extension": ".py",
   "mimetype": "text/x-python",
   "name": "python",
   "nbconvert_exporter": "python",
   "pygments_lexer": "ipython3",
   "version": "3.7.4"
  }
 },
 "nbformat": 4,
 "nbformat_minor": 2
}
